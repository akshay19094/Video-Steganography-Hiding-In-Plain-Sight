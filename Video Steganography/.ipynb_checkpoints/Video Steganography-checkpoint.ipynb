{
 "cells": [
  {
   "cell_type": "code",
   "execution_count": 1,
   "metadata": {},
   "outputs": [
    {
     "ename": "ModuleNotFoundError",
     "evalue": "No module named 'cv2'",
     "output_type": "error",
     "traceback": [
      "\u001b[1;31m---------------------------------------------------------------------------\u001b[0m",
      "\u001b[1;31mModuleNotFoundError\u001b[0m                       Traceback (most recent call last)",
      "\u001b[1;32m<ipython-input-1-c1f9b4bebb42>\u001b[0m in \u001b[0;36m<module>\u001b[1;34m\u001b[0m\n\u001b[0;32m      1\u001b[0m \u001b[1;32mimport\u001b[0m \u001b[0mnumpy\u001b[0m \u001b[1;32mas\u001b[0m \u001b[0mnp\u001b[0m\u001b[1;33m\u001b[0m\u001b[1;33m\u001b[0m\u001b[0m\n\u001b[1;32m----> 2\u001b[1;33m \u001b[1;32mimport\u001b[0m \u001b[0mcv2\u001b[0m\u001b[1;33m\u001b[0m\u001b[1;33m\u001b[0m\u001b[0m\n\u001b[0m\u001b[0;32m      3\u001b[0m \u001b[1;32mfrom\u001b[0m \u001b[0mmatplotlib\u001b[0m \u001b[1;32mimport\u001b[0m \u001b[0mpyplot\u001b[0m \u001b[1;32mas\u001b[0m \u001b[0mplt\u001b[0m\u001b[1;33m\u001b[0m\u001b[1;33m\u001b[0m\u001b[0m\n\u001b[0;32m      4\u001b[0m \u001b[1;32mimport\u001b[0m \u001b[0mrandom\u001b[0m\u001b[1;33m\u001b[0m\u001b[1;33m\u001b[0m\u001b[0m\n\u001b[0;32m      5\u001b[0m \u001b[1;32mimport\u001b[0m \u001b[0mmath\u001b[0m\u001b[1;33m\u001b[0m\u001b[1;33m\u001b[0m\u001b[0m\n",
      "\u001b[1;31mModuleNotFoundError\u001b[0m: No module named 'cv2'"
     ]
    }
   ],
   "source": [
    "import numpy as np\n",
    "import cv2 \n",
    "from matplotlib import pyplot as plt\n",
    "import random\n",
    "import math\n",
    "import time\n",
    "import os\n",
    "import subprocess\n",
    "import shutil\n",
    "import glob\n",
    "import time\n",
    "import moviepy.editor as mp \n",
    "import wave"
   ]
  },
  {
   "cell_type": "code",
   "execution_count": null,
   "metadata": {},
   "outputs": [],
   "source": [
    "pip install moviepy\n"
   ]
  },
  {
   "cell_type": "code",
   "execution_count": null,
   "metadata": {},
   "outputs": [],
   "source": [
    "video=cv2.VideoCapture(\"Video.mp4\")\n",
    "num_of_frames = int(video.get(cv2.CAP_PROP_FRAME_COUNT))\n",
    "print(num_of_frames)"
   ]
  },
  {
   "cell_type": "code",
   "execution_count": 3,
   "metadata": {},
   "outputs": [
    {
     "name": "stdout",
     "output_type": "stream",
     "text": [
      "Video Steganog- raphy in FCS 5\n",
      "[5, 227, 473, 598, 703, 730] [227, 473, 598, 703, 730]\n"
     ]
    }
   ],
   "source": [
    "#CHOOSE FRAMES\n",
    "original_text=\"Video Steganography in FCS\"\n",
    "text_list=original_text.split()\n",
    "final_text_list=[]\n",
    "for t in text_list: \n",
    "    if len(t)>10:\n",
    "        final_text_list.append(t[:8]+\"-\")\n",
    "        final_text_list.append(t[8:])\n",
    "    else:\n",
    "        final_text_list.append(t)\n",
    "text=\" \".join([x for x in final_text_list])\n",
    "text_length=len(text.split())\n",
    "print(text,text_length)\n",
    "random_frame_array=[]\n",
    "for i in range(text_length):\n",
    "    random_frame_array.append(int(random.uniform(100,num_of_frames-100)))\n",
    "random_frame_array.sort()\n",
    "random_frame_array_copy=random_frame_array.copy()\n",
    "random_frame_array_copy.insert(0,len(random_frame_array))\n",
    "print(random_frame_array_copy,random_frame_array)"
   ]
  },
  {
   "cell_type": "code",
   "execution_count": 4,
   "metadata": {},
   "outputs": [],
   "source": [
    "word_size = 16 # Size of the number in byte format\n",
    "secret_key = 567 # Secret key already known by the program \n",
    "byte_len=8"
   ]
  },
  {
   "cell_type": "code",
   "execution_count": 5,
   "metadata": {
    "scrolled": true
   },
   "outputs": [
    {
     "name": "stdout",
     "output_type": "stream",
     "text": [
      "MoviePy - Writing audio in Audio.wav\n"
     ]
    },
    {
     "name": "stderr",
     "output_type": "stream",
     "text": [
      "                                                                                                                       \r"
     ]
    },
    {
     "name": "stdout",
     "output_type": "stream",
     "text": [
      "MoviePy - Done.\n"
     ]
    }
   ],
   "source": [
    "# Load video files and change it into the wav format\n",
    "video = mp.VideoFileClip(\"Video.mp4\") \n",
    "audio = video.audio\n",
    "audio.write_audiofile(\"Audio.wav\")\n",
    "audio = wave.open(\"Audio.wav\", mode='rb')"
   ]
  },
  {
   "cell_type": "code",
   "execution_count": 6,
   "metadata": {},
   "outputs": [
    {
     "name": "stdout",
     "output_type": "stream",
     "text": [
      "6195168\n"
     ]
    }
   ],
   "source": [
    "# Load bytes from the audio file\n",
    "frame_data = audio.readframes(audio.getnframes())\n",
    "audio.close()\n",
    "os.remove(\"Audio.wav\")\n",
    "frame_bytes = bytearray(list(frame_data))\n",
    "print(len(frame_bytes))"
   ]
  },
  {
   "cell_type": "code",
   "execution_count": 7,
   "metadata": {},
   "outputs": [],
   "source": [
    "# Frame data to be written first element is number of frame object\n",
    "frame_data = random_frame_array_copy\n",
    "number_element = frame_data[0]"
   ]
  },
  {
   "cell_type": "code",
   "execution_count": 8,
   "metadata": {},
   "outputs": [],
   "source": [
    "# Convert the frame into bit data of word size and then store it in the audio file\n",
    "frame_data = ''.join(list(map(lambda number: '{0:0{width}b}'.format(number,width=word_size),frame_data)))\n",
    "frame_data = list(map(int,frame_data))\n",
    "frame_bytes_length = len(frame_bytes)"
   ]
  },
  {
   "cell_type": "code",
   "execution_count": 9,
   "metadata": {},
   "outputs": [
    {
     "name": "stdout",
     "output_type": "stream",
     "text": [
      "[ 404340 3038403  249110 1588869   52105 1058832 5552417 1005898 5287496\n",
      "   87834 2424693 4233849 5886001 5974094 5981701 2440357]\n"
     ]
    }
   ],
   "source": [
    "number_random_position = np.random.RandomState(seed=secret_key).choice(frame_bytes_length,word_size) # Get word_size random positions\n",
    "print(number_random_position)"
   ]
  },
  {
   "cell_type": "code",
   "execution_count": 10,
   "metadata": {},
   "outputs": [],
   "source": [
    "# Peform steganography encrpt the number of frames in random places\n",
    "for i, bit in enumerate(frame_data[:word_size]):\n",
    "    frame_bytes[number_random_position[i]] = (frame_bytes[number_random_position[i]] & 254) | bit"
   ]
  },
  {
   "cell_type": "code",
   "execution_count": 11,
   "metadata": {},
   "outputs": [],
   "source": [
    "# Remove encoded values from frame data and get random location to write data\n",
    "frame_data = frame_data[word_size:]\n",
    "random_bit_location = np.random.RandomState(seed=secret_key*number_element).choice(frame_bytes_length,word_size*(number_element+1))\n",
    "random_bit_location = list(set(random_bit_location) - set(number_random_position))[:word_size*number_element]"
   ]
  },
  {
   "cell_type": "code",
   "execution_count": 12,
   "metadata": {},
   "outputs": [],
   "source": [
    "# Peform steganography and save the data in the encrypted format\n",
    "for i, bit in enumerate(frame_data):\n",
    "    frame_bytes[random_bit_location[i]] = (frame_bytes[random_bit_location[i]] & 254) | bit"
   ]
  },
  {
   "cell_type": "code",
   "execution_count": 13,
   "metadata": {},
   "outputs": [],
   "source": [
    "# Generate modified frames\n",
    "modified_frames = bytes(frame_bytes)"
   ]
  },
  {
   "cell_type": "code",
   "execution_count": 14,
   "metadata": {},
   "outputs": [],
   "source": [
    "# Store the final audio file\n",
    "final_audio = wave.open(\"Encrypted.wav\",\"wb\")\n",
    "final_audio.setparams(audio.getparams())\n",
    "final_audio.writeframes(modified_frames)\n",
    "final_audio.close()"
   ]
  },
  {
   "cell_type": "code",
   "execution_count": 15,
   "metadata": {},
   "outputs": [
    {
     "name": "stdout",
     "output_type": "stream",
     "text": [
      "842\n"
     ]
    }
   ],
   "source": [
    "video=cv2.VideoCapture(\"Video.mp4\")\n",
    "num_of_frames = int(video.get(cv2.CAP_PROP_FRAME_COUNT))\n",
    "print(num_of_frames)"
   ]
  },
  {
   "cell_type": "code",
   "execution_count": 16,
   "metadata": {},
   "outputs": [
    {
     "name": "stdout",
     "output_type": "stream",
     "text": [
      "1 5\n",
      "4 9\n",
      "4 5\n",
      "4 2\n",
      "1 3\n"
     ]
    }
   ],
   "source": [
    "#EXTRACT AND ENCODE FRAMES\n",
    "frame_copy_list=[]\n",
    "position_properties_list=[]\n",
    "prev_frame_copy_list=[]\n",
    "text_list=text.split()\n",
    "t_dict={}\n",
    "#print(text_list)\n",
    "frame_dict={}\n",
    "prev_frame_dict={}\n",
    "for index,text_element in enumerate(text_list):\n",
    "    #frame=cv2.imread(\"frame_{}.jpg\".format(i+1))\n",
    "    #video.set(1, random_frame_array[index])\n",
    "    video.set(cv2.CAP_PROP_POS_FRAMES, random_frame_array[index])\n",
    "    success_flag, frame = video.read()\n",
    "    frame_copy=frame.copy()\n",
    "    frame_data=' '.join([format(ord(i),\"08b\") for i in text_element]) #convert to 8-bit binary\n",
    "    #frame_data = list(map(int,frame_data))\n",
    "    frame_data=frame_data.split()\n",
    "    #print(frame_data)\n",
    "\n",
    "    corner=int(random.uniform(1,5))\n",
    "    word_len=len(frame_data)\n",
    "    columns_needed=math.ceil(word_len*(byte_len+1)/3)\n",
    "    if corner==1:\n",
    "        row=0\n",
    "        col=0\n",
    "    if corner==2:\n",
    "        row=0\n",
    "        col=frame.shape[1]-(columns_needed+1)\n",
    "    if corner==3:\n",
    "        row=frame.shape[0]-1\n",
    "        col=0\n",
    "    if corner==4:\n",
    "        row=frame.shape[0]-1\n",
    "        col=frame.shape[1]-(columns_needed+1)\n",
    "    #print(row,columns_needed,word_len,byte_len,frame[row,col])\n",
    "\n",
    "    \n",
    "    print(corner,word_len)\n",
    "    \n",
    "    r=row\n",
    "    if col!=0:\n",
    "        c=col\n",
    "    else:\n",
    "        c=-1\n",
    "\n",
    "    for i,element in enumerate(frame_data):\n",
    "        for j in range(byte_len):\n",
    "            if j%3==0:\n",
    "                c+=1\n",
    "                #print(c)\n",
    "            #print(frame_data[i][j],frame[r,c,j%3])\n",
    "            curr_pixel=frame[r,c,j%3]\n",
    "            new=curr_pixel\n",
    "            if frame_data[i][j]=='0' and curr_pixel%2!=0:\n",
    "                frame_copy[r,c,j%3]-=1\n",
    "            elif frame_data[i][j]=='1' and curr_pixel%2==0:\n",
    "                if curr_pixel!=0:\n",
    "                    frame_copy[r,c,j%3]-=1\n",
    "                else:\n",
    "                    frame_copy[r,c,j%3]+=1\n",
    "            #print(frame_data[i][j],r,c,frame_copy[r,c,j%3]%2)\n",
    "        #print()\n",
    "    frame_copy_list.append(frame_copy)\n",
    "    position_properties_list.append((corner,word_len))\n",
    "\n",
    "    t_dict[random_frame_array[index]]=frame_copy\n",
    "    frame_dict[random_frame_array[index]]=frame_copy\n",
    "    \n",
    "    #write row number in the frame\n",
    "    corner_t=format(corner,\"08b\")\n",
    "    \n",
    "    #print(row_num,row,len(row_num),byte_len,random_frame_array[index]-1)\n",
    "    \n",
    "    #video.set(1,(random_frame_array[index]-1))\n",
    "    video.set(cv2.CAP_PROP_POS_FRAMES, random_frame_array[index]-1)\n",
    "    success_flag, frame = video.read()\n",
    "\n",
    "    prev_frame_copy=frame.copy()                 \n",
    "    #print(prev_frame_copy[0,0],prev_frame_copy[0,1])\n",
    "    \n",
    "    r=0\n",
    "    c=-1\n",
    "\n",
    "    for j in range(byte_len):\n",
    "        if j%3==0:\n",
    "            c+=1\n",
    "            #print(c)\n",
    "        #print(frame_data[i][j],frame[r,c,j%3])\n",
    "        curr_pixel=frame[r,c,j%3]\n",
    "        new=curr_pixel\n",
    "        if corner_t[j]=='0' and curr_pixel%2!=0:\n",
    "            prev_frame_copy[r,c,j%3]-=1\n",
    "        elif corner_t[j]=='1' and curr_pixel%2==0:\n",
    "            if curr_pixel!=0:\n",
    "                prev_frame_copy[r,c,j%3]-=1\n",
    "            else:\n",
    "                prev_frame_copy[r,c,j%3]+=1\n",
    "        #print(corner_t[j],r,c,curr_pixel,prev_frame_copy[r,c,j%3]%2)\n",
    "\n",
    "    w_len=format(word_len,\"08b\")\n",
    "\n",
    "    r=0\n",
    "    c=2\n",
    "\n",
    "    for j in range(byte_len):\n",
    "        if j%3==0:\n",
    "            c+=1\n",
    "            #print(c)\n",
    "        #rint(frame_data[i][j],frame[r,c,j%3])\n",
    "        curr_pixel=frame[r,c,j%3]\n",
    "        new=curr_pixel\n",
    "        if w_len[j]=='0' and curr_pixel%2!=0:\n",
    "            prev_frame_copy[r,c,j%3]-=1\n",
    "        elif w_len[j]=='1' and curr_pixel%2==0:\n",
    "            if curr_pixel!=0:\n",
    "                prev_frame_copy[r,c,j%3]-=1\n",
    "            else:\n",
    "                prev_frame_copy[r,c,j%3]+=1\n",
    "        #print(w_len[j],r,c,curr_pixel,prev_frame_copy[r,c,j%3]%2)   \n",
    "    \n",
    "    prev_frame_copy_list.append(prev_frame_copy)\n",
    "    t_dict[random_frame_array[index]-1]=prev_frame_copy\n",
    "    prev_frame_dict[random_frame_array[index]-1]=prev_frame_copy\n",
    "    #print(\"-----------\")\n",
    "height, width, layers = frame.shape\n",
    "frameSize = (width,height)\n",
    "frameSize\n",
    "video.release() \n",
    "cv2.destroyAllWindows()"
   ]
  },
  {
   "cell_type": "code",
   "execution_count": 17,
   "metadata": {},
   "outputs": [
    {
     "name": "stdout",
     "output_type": "stream",
     "text": [
      "226\n",
      "[0 0 0] [0 0 0] [0 1 0]\n",
      "227\n",
      "472\n",
      "[0 0 0] [0 0 1] [0 0 0]\n",
      "473\n",
      "597\n",
      "[0 0 0] [0 0 1] [0 0 0]\n",
      "598\n",
      "702\n",
      "[0 0 0] [0 0 1] [0 0 0]\n",
      "703\n",
      "729\n",
      "[0 0 0] [0 0 0] [0 1 0]\n",
      "730\n",
      "50.86711835861206\n"
     ]
    }
   ],
   "source": [
    "#EMBED ENCODED FRAMES INTO A VIDEO\n",
    "start=time.time()\n",
    "video=cv2.VideoCapture(\"Video.mp4\")\n",
    "fps=video.get(cv2.CAP_PROP_FPS)\n",
    "num_of_frames = int(video.get(cv2.CAP_PROP_FRAME_COUNT))\n",
    "\n",
    "if not os.path.exists('frames_encode'):\n",
    "    os.makedirs('frames_encode')\n",
    "\n",
    "os.chdir('E://M.Tech//Semester-3//FCS//Project//frames_encode')\n",
    "    \n",
    "for i in range(num_of_frames):\n",
    "    success_flag, frame = video.read()\n",
    "    if i not in list(frame_dict) and i not in list(prev_frame_dict):\n",
    "        pass\n",
    "    else:\n",
    "        print(i)\n",
    "        if i in list(frame_dict):\n",
    "            frame=frame_dict[i]\n",
    "        else:\n",
    "            print(prev_frame_dict[i][0][0],prev_frame_dict[i][0][1],prev_frame_dict[i][0][2])\n",
    "            #print(prev_frame_dict[i][0][3],prev_frame_dict[i][0][4],prev_frame_dict[i][0][5])\n",
    "            frame=prev_frame_dict[i]\n",
    "    \n",
    "    cv2.imwrite(\"frame{}.png\".format(i),frame)\n",
    "    \n",
    "video.release() \n",
    "cv2.destroyAllWindows()\n",
    "\n",
    "os.chdir('E://M.Tech//Semester-3//FCS//Project')\n",
    "#subprocess.getoutput(['ffmpeg','-framerate','{}'.format(fps),'-i','frames_encode/frame%d.png','-codec','copy','output.mp4'])\n",
    "\n",
    "subprocess.run('ffmpeg -y -framerate {} -i frames_encode/frame%d.png -vcodec ffv1 -level 3 output.mkv'.format(fps))\n",
    "\n",
    "subprocess.getoutput(['ffmpeg','-y','-i','output.mkv','-i','Encrypted.wav','-c:v','copy','-c:a','copy','final_output.mkv'])\n",
    "\n",
    "os.remove('output.mkv')\n",
    "os.remove(\"Encrypted.wav\")\n",
    "\n",
    "shutil.rmtree('frames_encode') \n",
    "end=time.time()\n",
    "print(end-start)"
   ]
  },
  {
   "cell_type": "code",
   "execution_count": null,
   "metadata": {},
   "outputs": [],
   "source": []
  },
  {
   "cell_type": "code",
   "execution_count": null,
   "metadata": {},
   "outputs": [],
   "source": [
    "#DECRYPTION"
   ]
  },
  {
   "cell_type": "code",
   "execution_count": 18,
   "metadata": {},
   "outputs": [
    {
     "data": {
      "text/plain": [
       "CompletedProcess(args=['ffmpeg', '-y', '-i', 'final_output.mkv', '-c', 'copy', 'Audio.wav'], returncode=0)"
      ]
     },
     "execution_count": 18,
     "metadata": {},
     "output_type": "execute_result"
    }
   ],
   "source": [
    "# Load video files and change it into the wav format\n",
    "subprocess.run(['ffmpeg','-y','-i','final_output.mkv','-c','copy','Audio.wav'])"
   ]
  },
  {
   "cell_type": "code",
   "execution_count": 19,
   "metadata": {},
   "outputs": [
    {
     "name": "stdout",
     "output_type": "stream",
     "text": [
      "[227, 473, 598, 703, 730]\n"
     ]
    }
   ],
   "source": [
    "# Load the final audio file and extract frames from it\n",
    "audio = wave.open(\"Audio.wav\", mode=\"rb\")\n",
    "frame_data = audio.readframes(audio.getnframes())\n",
    "frame_bytes = bytearray(list(frame_data))\n",
    "audio.close()\n",
    "os.remove(\"Audio.wav\")\n",
    "#print(len(frame_bytes),type(frame_bytes[0]))\n",
    "\n",
    "frame_bytes_length = len(frame_bytes) # Get number of frames\n",
    "number_random_position = np.random.RandomState(seed=secret_key).choice(frame_bytes_length,word_size) # Get word_size random positions\n",
    "#print(number_random_position)\n",
    "\n",
    "# Extract bits from the message and get number of frames from data\n",
    "extracted = [frame_bytes[number_random_position[i]] & 1 for i in range(word_size)]\n",
    "number_element = int(str(\"\".join(list(map(str,extracted)))),2)\n",
    "\n",
    "# Get random location to read data\n",
    "random_bit_location = np.random.RandomState(seed=secret_key*number_element).choice(frame_bytes_length,word_size*(number_element+1))\n",
    "random_bit_location = list(set(random_bit_location) - set(number_random_position))[:word_size*number_element]\n",
    "\n",
    "# Extract frame data\n",
    "finalExtraction = [] # Final extracted frame data\n",
    "#print(number_element,word_size)\n",
    "for i in range(0,(number_element*word_size)):\n",
    "    finalExtraction.append(frame_bytes[random_bit_location[i]] & 1)\n",
    "\n",
    "# Extract bits and club them together to form word and then convert it to numbers\n",
    "frame_list = list(np.array(finalExtraction).reshape(number_element,word_size))\n",
    "number = list(map(lambda x: int(\"\".join(list(map(str,x))),2),frame_list))\n",
    "random_frame_array=number\n",
    "print(random_frame_array)"
   ]
  },
  {
   "cell_type": "code",
   "execution_count": 22,
   "metadata": {},
   "outputs": [
    {
     "name": "stdout",
     "output_type": "stream",
     "text": [
      "Original text:Video Steganography in FCS\n",
      "Decoded text:Video Steganography in FCS\n",
      "38.925496339797974\n"
     ]
    }
   ],
   "source": [
    "#EXTRACT TEXT FROM VIDEO\n",
    "start=time.time()\n",
    "counter=0\n",
    "decoded_text=\"\"\n",
    "for index in range(len(random_frame_array)):\n",
    "    #print(random_frame_array[index]-1)\n",
    "    \n",
    "    subprocess.call(['ffmpeg','-i','final_output.mkv','-vf','select=eq(n\\,{})'.format(random_frame_array[index]-1),\n",
    "                     '-vframes','1','output{}.png'.format(counter)])\n",
    "    prev_frame=cv2.imread(\"output{}.png\".format(counter))\n",
    "\n",
    "    counter+=1\n",
    "    \n",
    "    #print(prev_frame[0][0],prev_frame[0][1],prev_frame[0][2])\n",
    "    #print(t_dict[random_frame_array[index]-1][0][0],t_dict[random_frame_array[index]-1][0][1],\n",
    "    #      t_dict[random_frame_array[index]-1][0][2])\n",
    "    \n",
    "    corner=\"\"\n",
    "    c=-1\n",
    "    for i in range(byte_len):\n",
    "        if i%3==0:\n",
    "            c+=1\n",
    "        if(prev_frame[0,c,i%3]%2==0):\n",
    "            corner+='0'\n",
    "        else:\n",
    "            corner+='1'\n",
    "    c=2\n",
    "    \n",
    "    word_len=\"\"\n",
    "    for i in range(byte_len):\n",
    "        if i%3==0:\n",
    "            c+=1\n",
    "        if(prev_frame[0,c,i%3]%2==0):\n",
    "            word_len+='0'\n",
    "        else:\n",
    "            word_len+='1' \n",
    "    \n",
    "    corner=int(corner,2)\n",
    "    word_len=int(word_len,2)\n",
    "    \n",
    "    #print(corner,word_len)\n",
    "    columns_needed=math.ceil(word_len*(byte_len+1)/3)\n",
    "    \n",
    "    if corner==1:\n",
    "        row=0\n",
    "        col=0\n",
    "    if corner==2:\n",
    "        row=0\n",
    "        col=prev_frame.shape[1]-(columns_needed+1)\n",
    "    if corner==3:\n",
    "        row=prev_frame.shape[0]-1\n",
    "        col=0\n",
    "    if corner==4:\n",
    "        row=prev_frame.shape[0]-1\n",
    "        col=prev_frame.shape[1]-(columns_needed+1)\n",
    "    \n",
    "    #print(row,col)\n",
    "    \n",
    "    r=row\n",
    "    if col!=0:\n",
    "        c=col+1\n",
    "    else:\n",
    "        c=0\n",
    "    \n",
    "    subprocess.call(['ffmpeg','-i','final_output.mkv','-vf','select=eq(n\\,{})'.format(random_frame_array[index]),\n",
    "                     '-vframes','1','output{}.png'.format(counter)])\n",
    "    curr_frame=cv2.imread(\"output{}.png\".format(counter))\n",
    "    counter+=1\n",
    "                     \n",
    "    #print((byte_len+1)*3)\n",
    "    for j in range(word_len):\n",
    "        binary_string=\"\"\n",
    "        for i in range(byte_len):\n",
    "            if i%3==0 and i!=0:\n",
    "                c+=1\n",
    "\n",
    "            #print(i,c)\n",
    "            if i%8==0 and i!=0:\n",
    "                #print(binary_string)\n",
    "                c+=1\n",
    "\n",
    "            #print(i,r,c,frame_copy[r,c,i%3]%2)\n",
    "            if(curr_frame[r,c,i%3]%2==0):\n",
    "                binary_string+='0'\n",
    "            else:\n",
    "                binary_string+='1'\n",
    "        c+=1\n",
    "        decoded_text+=chr(int(binary_string,2))\n",
    "    decoded_text+=\" \"\n",
    "decoded_text=decoded_text.strip().replace(\"- \",\"\")\n",
    "print(\"Original text:{}\\nDecoded text:{}\".format(original_text,decoded_text))\n",
    "\n",
    "for f in glob.glob(\"output*.png\"):\n",
    "    os.remove(f)\n",
    "    \n",
    "end=time.time()\n",
    "print(end-start)"
   ]
  },
  {
   "cell_type": "code",
   "execution_count": 24,
   "metadata": {},
   "outputs": [
    {
     "data": {
      "text/plain": [
       "'\\ncounter = 0\\nfor index in range(842):\\n    subprocess.call(\\n        [\\'ffmpeg\\', \\'-y\\', \\'-i\\', \\'final_output.mkv\\', \\'-vf\\', \\'select=eq(n\\\\,{})\\'.format(index),\\n         \\'-vframes\\', \\'1\\', \\'final_output{}.png\\'.format(counter)])\\n    subprocess.call(\\n        [\\'ffmpeg\\', \\'-y\\', \\'-i\\', \\'output.mkv\\', \\'-vf\\', \\'select=eq(n\\\\,{})\\'.format(index),\\n         \\'-vframes\\', \\'1\\', \\'output{}.png\\'.format(counter)])\\n    counter += 1\\nfor index in range(842):\\n    before_frame = cv2.imread(\"final_output{}.png\".format(index))\\n    after_f\\n'"
      ]
     },
     "execution_count": 24,
     "metadata": {},
     "output_type": "execute_result"
    }
   ],
   "source": [
    "'''\n",
    "counter = 0\n",
    "for index in range(842):\n",
    "    subprocess.call(\n",
    "        ['ffmpeg', '-y', '-i', 'final_output.mkv', '-vf', 'select=eq(n\\,{})'.format(index),\n",
    "         '-vframes', '1', 'final_output{}.png'.format(counter)])\n",
    "    subprocess.call(\n",
    "        ['ffmpeg', '-y', '-i', 'output.mkv', '-vf', 'select=eq(n\\,{})'.format(index),\n",
    "         '-vframes', '1', 'output{}.png'.format(counter)])\n",
    "    counter += 1\n",
    "for index in range(842):\n",
    "    before_frame = cv2.imread(\"final_output{}.png\".format(index))\n",
    "    after_f\n",
    "'''"
   ]
  },
  {
   "cell_type": "code",
   "execution_count": null,
   "metadata": {},
   "outputs": [],
   "source": []
  }
 ],
 "metadata": {
  "kernelspec": {
   "display_name": "Python 3",
   "language": "python",
   "name": "python3"
  },
  "language_info": {
   "codemirror_mode": {
    "name": "ipython",
    "version": 3
   },
   "file_extension": ".py",
   "mimetype": "text/x-python",
   "name": "python",
   "nbconvert_exporter": "python",
   "pygments_lexer": "ipython3",
   "version": "3.7.4"
  }
 },
 "nbformat": 4,
 "nbformat_minor": 2
}
