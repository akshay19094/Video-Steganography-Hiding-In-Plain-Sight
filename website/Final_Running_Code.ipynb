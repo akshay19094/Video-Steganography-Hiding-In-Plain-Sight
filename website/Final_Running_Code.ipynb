{
 "cells": [
  {
   "cell_type": "code",
   "execution_count": 1,
   "metadata": {
    "colab": {
     "base_uri": "https://localhost:8080/"
    },
    "id": "NTNsqxacvVfJ",
    "outputId": "85b0d54d-f02a-4c58-d9d2-be5e2c8cc966"
   },
   "outputs": [],
   "source": [
    "import numpy as np\n",
    "import cv2 \n",
    "from matplotlib import pyplot as plt\n",
    "import random\n",
    "import math\n",
    "import time\n",
    "import os\n",
    "import subprocess\n",
    "import shutil\n",
    "import glob\n",
    "import time\n",
    "import moviepy.editor as mp \n",
    "import wave\n",
    "import errno,stat\n",
    "from flask import Flask, redirect, url_for, render_template, request\n",
    "from flask_ngrok import run_with_ngrok\n",
    "import os\n",
    "from time import time,sleep\n",
    "from VideoSteganography import encryptCustom, decryptCustom, handleRemoveReadonly\n",
    "from flask import send_file"
   ]
  },
  {
   "cell_type": "code",
   "execution_count": null,
   "metadata": {
    "id": "iymXcHn3mrzN",
    "scrolled": true
   },
   "outputs": [
    {
     "name": "stdout",
     "output_type": "stream",
     "text": [
      " * Serving Flask app \"__main__\" (lazy loading)\n",
      " * Environment: production\n",
      "   WARNING: This is a development server. Do not use it in a production deployment.\n",
      "   Use a production WSGI server instead.\n",
      " * Debug mode: off\n"
     ]
    },
    {
     "name": "stderr",
     "output_type": "stream",
     "text": [
      " * Running on http://127.0.0.1:5000/ (Press CTRL+C to quit)\n",
      "127.0.0.1 - - [17/Dec/2020 18:26:00] \"GET / HTTP/1.1\" 200 -\n",
      "127.0.0.1 - - [17/Dec/2020 18:26:00] \"GET /css/styles.css?v=1.0 HTTP/1.1\" 404 -\n",
      "127.0.0.1 - - [17/Dec/2020 18:26:00] \"GET /static/home.jpg HTTP/1.1\" 200 -\n",
      "127.0.0.1 - - [17/Dec/2020 18:26:03] \"GET /readme.html HTTP/1.1\" 200 -\n",
      "127.0.0.1 - - [17/Dec/2020 18:26:03] \"GET /css/styles.css?v=1.0 HTTP/1.1\" 404 -\n",
      "127.0.0.1 - - [17/Dec/2020 18:26:03] \"GET /static/readme.pdf HTTP/1.1\" 200 -\n",
      "127.0.0.1 - - [17/Dec/2020 18:26:05] \"GET /home.html HTTP/1.1\" 200 -\n",
      "127.0.0.1 - - [17/Dec/2020 18:26:05] \"GET /css/styles.css?v=1.0 HTTP/1.1\" 404 -\n",
      "127.0.0.1 - - [17/Dec/2020 18:26:06] \"GET /contact.html HTTP/1.1\" 200 -\n",
      "127.0.0.1 - - [17/Dec/2020 18:26:06] \"GET /css/styles.css?v=1.0 HTTP/1.1\" 404 -\n",
      "127.0.0.1 - - [17/Dec/2020 18:26:08] \"GET /home.html HTTP/1.1\" 200 -\n",
      "127.0.0.1 - - [17/Dec/2020 18:26:08] \"GET /css/styles.css?v=1.0 HTTP/1.1\" 404 -\n",
      "127.0.0.1 - - [17/Dec/2020 18:26:10] \"GET /encode.html HTTP/1.1\" 200 -\n",
      "127.0.0.1 - - [17/Dec/2020 18:26:10] \"GET /css/styles.css?v=1.0 HTTP/1.1\" 404 -\n",
      "127.0.0.1 - - [17/Dec/2020 18:26:10] \"GET /js/scripts.js HTTP/1.1\" 404 -\n",
      "127.0.0.1 - - [17/Dec/2020 18:26:10] \"GET /js/scripts.js HTTP/1.1\" 404 -\n",
      "127.0.0.1 - - [17/Dec/2020 18:26:10] \"GET /encode.html HTTP/1.1\" 200 -\n",
      "127.0.0.1 - - [17/Dec/2020 18:26:12] \"GET /home.html HTTP/1.1\" 200 -\n",
      "127.0.0.1 - - [17/Dec/2020 18:26:12] \"GET /css/styles.css?v=1.0 HTTP/1.1\" 404 -\n",
      "127.0.0.1 - - [17/Dec/2020 18:26:14] \"GET /decode.html HTTP/1.1\" 200 -\n",
      "127.0.0.1 - - [17/Dec/2020 18:26:14] \"GET /css/styles.css?v=1.0 HTTP/1.1\" 404 -\n",
      "127.0.0.1 - - [17/Dec/2020 18:26:14] \"GET /js/scripts.js HTTP/1.1\" 404 -\n",
      "127.0.0.1 - - [17/Dec/2020 18:26:14] \"GET /js/scripts.js HTTP/1.1\" 404 -\n",
      "127.0.0.1 - - [17/Dec/2020 18:26:16] \"GET /home.html HTTP/1.1\" 200 -\n",
      "127.0.0.1 - - [17/Dec/2020 18:26:16] \"GET /css/styles.css?v=1.0 HTTP/1.1\" 404 -\n",
      "127.0.0.1 - - [17/Dec/2020 18:48:23] \"GET /contact.html HTTP/1.1\" 200 -\n",
      "127.0.0.1 - - [17/Dec/2020 18:48:23] \"GET /css/styles.css?v=1.0 HTTP/1.1\" 404 -\n",
      "127.0.0.1 - - [17/Dec/2020 18:48:23] \"GET /favicon.ico HTTP/1.1\" 404 -\n",
      "127.0.0.1 - - [17/Dec/2020 18:48:26] \"GET /readme.html HTTP/1.1\" 200 -\n",
      "127.0.0.1 - - [17/Dec/2020 18:48:26] \"GET /css/styles.css?v=1.0 HTTP/1.1\" 404 -\n",
      "127.0.0.1 - - [17/Dec/2020 18:48:34] \"GET /home.html HTTP/1.1\" 200 -\n",
      "127.0.0.1 - - [17/Dec/2020 18:48:34] \"GET /css/styles.css?v=1.0 HTTP/1.1\" 404 -\n",
      "127.0.0.1 - - [17/Dec/2020 18:48:39] \"GET /encode.html HTTP/1.1\" 200 -\n",
      "127.0.0.1 - - [17/Dec/2020 18:48:39] \"GET /css/styles.css?v=1.0 HTTP/1.1\" 404 -\n",
      "127.0.0.1 - - [17/Dec/2020 18:48:39] \"GET /js/scripts.js HTTP/1.1\" 404 -\n",
      "127.0.0.1 - - [17/Dec/2020 18:48:39] \"GET /js/scripts.js HTTP/1.1\" 404 -\n",
      "127.0.0.1 - - [17/Dec/2020 18:48:39] \"GET /encode.html HTTP/1.1\" 200 -\n",
      "127.0.0.1 - - [17/Dec/2020 18:48:52] \"GET /favicon.ico HTTP/1.1\" 404 -\n"
     ]
    },
    {
     "name": "stdout",
     "output_type": "stream",
     "text": [
      "MoviePy - Writing audio in Audio.wav\n"
     ]
    },
    {
     "name": "stderr",
     "output_type": "stream",
     "text": [
      "                                                                                                                       \r"
     ]
    },
    {
     "name": "stdout",
     "output_type": "stream",
     "text": [
      "MoviePy - Done.\n"
     ]
    },
    {
     "name": "stderr",
     "output_type": "stream",
     "text": [
      "127.0.0.1 - - [17/Dec/2020 18:51:18] \"POST /encode.html HTTP/1.1\" 200 -\n",
      "127.0.0.1 - - [17/Dec/2020 18:51:18] \"GET /css/styles.css?v=1.0 HTTP/1.1\" 404 -\n",
      "127.0.0.1 - - [17/Dec/2020 18:51:18] \"GET /js/scripts.js HTTP/1.1\" 404 -\n",
      "127.0.0.1 - - [17/Dec/2020 18:51:19] \"GET /js/scripts.js HTTP/1.1\" 404 -\n",
      "127.0.0.1 - - [17/Dec/2020 18:51:19] \"GET /encode.html HTTP/1.1\" 200 -\n",
      "127.0.0.1 - - [17/Dec/2020 18:52:54] \"GET /return-video/ HTTP/1.1\" 200 -\n",
      "127.0.0.1 - - [17/Dec/2020 18:53:02] \"GET /home.html HTTP/1.1\" 200 -\n",
      "127.0.0.1 - - [17/Dec/2020 18:53:02] \"GET /css/styles.css?v=1.0 HTTP/1.1\" 404 -\n",
      "127.0.0.1 - - [17/Dec/2020 18:53:04] \"GET /decode.html HTTP/1.1\" 200 -\n",
      "127.0.0.1 - - [17/Dec/2020 18:53:04] \"GET /css/styles.css?v=1.0 HTTP/1.1\" 404 -\n",
      "127.0.0.1 - - [17/Dec/2020 18:53:04] \"GET /js/scripts.js HTTP/1.1\" 404 -\n",
      "127.0.0.1 - - [17/Dec/2020 18:53:04] \"GET /js/scripts.js HTTP/1.1\" 404 -\n"
     ]
    },
    {
     "name": "stdout",
     "output_type": "stream",
     "text": [
      "\n",
      "Decoded text:how to train a dragon\n",
      "113.12239408493042\n"
     ]
    },
    {
     "name": "stderr",
     "output_type": "stream",
     "text": [
      "127.0.0.1 - - [17/Dec/2020 18:55:26] \"POST /decode.html HTTP/1.1\" 200 -\n",
      "127.0.0.1 - - [17/Dec/2020 18:55:27] \"GET /css/styles.css?v=1.0 HTTP/1.1\" 404 -\n",
      "127.0.0.1 - - [17/Dec/2020 18:55:27] \"GET /js/scripts.js HTTP/1.1\" 404 -\n",
      "127.0.0.1 - - [17/Dec/2020 18:55:27] \"GET /js/scripts.js HTTP/1.1\" 404 -\n",
      "127.0.0.1 - - [17/Dec/2020 18:55:53] \"GET /return-txt/ HTTP/1.1\" 200 -\n",
      "127.0.0.1 - - [17/Dec/2020 18:56:11] \"GET /home.html HTTP/1.1\" 200 -\n",
      "127.0.0.1 - - [17/Dec/2020 18:56:12] \"GET /css/styles.css?v=1.0 HTTP/1.1\" 404 -\n"
     ]
    }
   ],
   "source": [
    "staticPath = \"static/\"\n",
    "\n",
    "app = Flask(__name__)\n",
    "app.config['STATIC'] = \"./static/\"\n",
    "# run_with_ngrok(app) \n",
    "\n",
    "@app.route(\"/\")\n",
    "def root():\n",
    "    return render_template(\"home.html\")\n",
    "\n",
    "@app.route(\"/home.html\")\n",
    "def home():\n",
    "    return render_template(\"home.html\")\n",
    "    \n",
    "@app.route(\"/encode.html\",methods=[\"POST\",\"GET\"])\n",
    "def encrypt():\n",
    "    if request.method==\"POST\":\n",
    "        \n",
    "        txtfile = request.files[\"txt\"]\n",
    "        txtfile.save(os.path.join(app.config['STATIC'], txtfile.filename))\n",
    "        \n",
    "        videofile = request.files[\"vid\"]\n",
    "        videofile.save(os.path.join(app.config['STATIC'], videofile.filename))\n",
    "        \n",
    "        encryptCustom(staticPath+videofile.filename,staticPath+txtfile.filename)       \n",
    "        \n",
    "    return render_template(\"encode.html\")\n",
    "\n",
    "@app.route(\"/decode.html\",methods=[\"POST\",\"GET\"])\n",
    "def decrypt():\n",
    "    if request.method==\"POST\":\n",
    "               \n",
    "        videofile = request.files[\"vid\"]\n",
    "        videofile.save(os.path.join(app.config['STATIC'], videofile.filename))\n",
    "        \n",
    "        text = decryptCustom(staticPath+videofile.filename)       \n",
    "        \n",
    "    return render_template(\"decode.html\")\n",
    "\n",
    "@app.route('/return-txt/')\n",
    "def return_txt():\n",
    "    outFile = staticPath+\"decodedText.csv\"\n",
    "    try:\n",
    "        return send_file(outFile, attachment_filename=\"decodedText.csv\", as_attachment=True)\n",
    "    except Exception as e:\n",
    "        return str(e)\n",
    "\n",
    "@app.route('/return-video/')\n",
    "def return_video():\n",
    "    outFile = staticPath+\"final_output.mkv\"\n",
    "    try:\n",
    "        return send_file(outFile, attachment_filename=\"final_output.mkv\", as_attachment=True)\n",
    "    except Exception as e:\n",
    "        return str(e)\n",
    "\n",
    "@app.route(\"/contact.html\")\n",
    "def contact():\n",
    "    return render_template(\"contact.html\")\n",
    "\n",
    "@app.route(\"/readme.html\")\n",
    "def readme():\n",
    "    return render_template(\"readme.html\")\n",
    "    \n",
    "if __name__ == \"__main__\":\n",
    "    app.run()"
   ]
  },
  {
   "cell_type": "code",
   "execution_count": null,
   "metadata": {},
   "outputs": [],
   "source": []
  }
 ],
 "metadata": {
  "colab": {
   "collapsed_sections": [],
   "name": "Final Running Code.ipynb",
   "provenance": [],
   "toc_visible": true
  },
  "kernelspec": {
   "display_name": "Python 3",
   "language": "python",
   "name": "python3"
  },
  "language_info": {
   "codemirror_mode": {
    "name": "ipython",
    "version": 3
   },
   "file_extension": ".py",
   "mimetype": "text/x-python",
   "name": "python",
   "nbconvert_exporter": "python",
   "pygments_lexer": "ipython3",
   "version": "3.7.4"
  }
 },
 "nbformat": 4,
 "nbformat_minor": 1
}
