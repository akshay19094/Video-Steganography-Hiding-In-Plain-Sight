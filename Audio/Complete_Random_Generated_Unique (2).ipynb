{
 "cells": [
  {
   "cell_type": "code",
   "execution_count": 1,
   "metadata": {},
   "outputs": [],
   "source": [
    "# Import files\n",
    "import moviepy.editor as mp \n",
    "import wave\n",
    "import numpy as np"
   ]
  },
  {
   "cell_type": "code",
   "execution_count": 2,
   "metadata": {},
   "outputs": [],
   "source": [
    "word_size = 16 # Size of the number in byte format\n",
    "secret_key = 567 # Secret key already known by the program "
   ]
  },
  {
   "cell_type": "markdown",
   "metadata": {},
   "source": [
    "### Encryption"
   ]
  },
  {
   "cell_type": "code",
   "execution_count": 3,
   "metadata": {},
   "outputs": [
    {
     "name": "stderr",
     "output_type": "stream",
     "text": [
      "\r",
      "chunk:   0%|                                                                         | 0/775 [00:00<?, ?it/s, now=None]"
     ]
    },
    {
     "name": "stdout",
     "output_type": "stream",
     "text": [
      "MoviePy - Writing audio in Audio.wav\n"
     ]
    },
    {
     "name": "stderr",
     "output_type": "stream",
     "text": [
      "                                                                                                                       "
     ]
    },
    {
     "name": "stdout",
     "output_type": "stream",
     "text": [
      "MoviePy - Done.\n"
     ]
    },
    {
     "name": "stderr",
     "output_type": "stream",
     "text": [
      "\r"
     ]
    }
   ],
   "source": [
    "# Load video files and change it into the wav format\n",
    "video = mp.VideoFileClip(\"Small.mp4\") \n",
    "audio = video.audio\n",
    "audio.write_audiofile(\"Audio.wav\")\n",
    "audio = wave.open(\"Audio.wav\", mode='rb')"
   ]
  },
  {
   "cell_type": "code",
   "execution_count": 4,
   "metadata": {},
   "outputs": [],
   "source": [
    "# Load bytes from the audio file\n",
    "frame_data = audio.readframes(audio.getnframes())\n",
    "frame_bytes = bytearray(list(frame_data))"
   ]
  },
  {
   "cell_type": "code",
   "execution_count": 5,
   "metadata": {},
   "outputs": [],
   "source": [
    "# Frame data to be written first element is number of frame object\n",
    "frame_data = [4,165,175,200,1000]\n",
    "number_element = frame_data[0]"
   ]
  },
  {
   "cell_type": "code",
   "execution_count": 6,
   "metadata": {},
   "outputs": [],
   "source": [
    "# Convert the frame into bit data of word size and then store it in the audio file\n",
    "frame_data = ''.join(list(map(lambda number: '{0:0{width}b}'.format(number,width=word_size),frame_data)))\n",
    "frame_data = list(map(int,frame_data))\n",
    "frame_bytes_length = len(frame_bytes)"
   ]
  },
  {
   "cell_type": "code",
   "execution_count": 7,
   "metadata": {},
   "outputs": [],
   "source": [
    "number_random_position = np.random.RandomState(seed=secret_key).choice(frame_bytes_length,word_size) # Get word_size random positions"
   ]
  },
  {
   "cell_type": "code",
   "execution_count": 8,
   "metadata": {},
   "outputs": [],
   "source": [
    "# Peform steganography encrpt the number of frames in random places\n",
    "for i, bit in enumerate(frame_data[:word_size]):\n",
    "    frame_bytes[number_random_position[i]] = (frame_bytes[number_random_position[i]] & 254) | bit"
   ]
  },
  {
   "cell_type": "code",
   "execution_count": 9,
   "metadata": {},
   "outputs": [],
   "source": [
    "# Remove encoded values from frame data and get random location to write data\n",
    "frame_data = frame_data[word_size:]\n",
    "random_bit_location = np.random.RandomState(seed=secret_key*number_element).choice(frame_bytes_length,word_size*(number_element+1))\n",
    "random_bit_location = list(set(random_bit_location) - set(number_random_position))[:word_size*number_element]"
   ]
  },
  {
   "cell_type": "code",
   "execution_count": 10,
   "metadata": {},
   "outputs": [],
   "source": [
    "# Peform steganography and save the data in the encrypted format\n",
    "for i, bit in enumerate(frame_data):\n",
    "    frame_bytes[random_bit_location[i]] = (frame_bytes[random_bit_location[i]] & 254) | bit"
   ]
  },
  {
   "cell_type": "code",
   "execution_count": 11,
   "metadata": {},
   "outputs": [],
   "source": [
    "# Generate modified frames\n",
    "modified_frames = bytes(frame_bytes)"
   ]
  },
  {
   "cell_type": "code",
   "execution_count": 12,
   "metadata": {},
   "outputs": [],
   "source": [
    "# Store the final audio file\n",
    "final_audio = wave.open(\"Encrypted.wav\",\"wb\")\n",
    "final_audio.setparams(audio.getparams())\n",
    "final_audio.writeframes(modified_frames)"
   ]
  },
  {
   "cell_type": "markdown",
   "metadata": {},
   "source": [
    "### Decryption"
   ]
  },
  {
   "cell_type": "code",
   "execution_count": 13,
   "metadata": {},
   "outputs": [],
   "source": [
    "# Load the final audio file and extract frames from it\n",
    "audio = wave.open(\"Encrypted.wav\", mode=\"rb\")\n",
    "frame_data = audio.readframes(audio.getnframes())\n",
    "frame_bytes = bytearray(list(frame_data))"
   ]
  },
  {
   "cell_type": "code",
   "execution_count": 14,
   "metadata": {},
   "outputs": [],
   "source": [
    "frame_bytes_length = len(frame_bytes) # Get number of frames\n",
    "number_random_position = np.random.RandomState(seed=secret_key).choice(frame_bytes_length,word_size) # Get word_size random positions"
   ]
  },
  {
   "cell_type": "code",
   "execution_count": 15,
   "metadata": {},
   "outputs": [],
   "source": [
    "# Extract bits from the message and get number of frames from data\n",
    "extracted = [frame_bytes[number_random_position[i]] & 1 for i in range(word_size)]\n",
    "number_element = int(str(\"\".join(list(map(str,extracted)))),2)"
   ]
  },
  {
   "cell_type": "code",
   "execution_count": 16,
   "metadata": {},
   "outputs": [],
   "source": [
    "# Get random location to read data\n",
    "random_bit_location = np.random.RandomState(seed=secret_key*number_element).choice(frame_bytes_length,word_size*(number_element+1))\n",
    "random_bit_location = list(set(random_bit_location) - set(number_random_position))[:word_size*number_element]"
   ]
  },
  {
   "cell_type": "code",
   "execution_count": 17,
   "metadata": {},
   "outputs": [],
   "source": [
    "# Extract frame data\n",
    "finalExtraction = [] # Final extracted frame data\n",
    "for i in range(0,(number_element*word_size)):\n",
    "    finalExtraction.append(frame_bytes[random_bit_location[i]] & 1)"
   ]
  },
  {
   "cell_type": "code",
   "execution_count": 18,
   "metadata": {},
   "outputs": [],
   "source": [
    "# Extract bits and club them together to form word and then convert it to numbers\n",
    "frame_list = list(np.array(finalExtraction).reshape(number_element,word_size))\n",
    "number = list(map(lambda x: int(\"\".join(list(map(str,x))),2),frame_list))"
   ]
  },
  {
   "cell_type": "code",
   "execution_count": 19,
   "metadata": {},
   "outputs": [
    {
     "name": "stdout",
     "output_type": "stream",
     "text": [
      "[165, 175, 200, 1000]\n"
     ]
    }
   ],
   "source": [
    "print(number)"
   ]
  },
  {
   "cell_type": "code",
   "execution_count": null,
   "metadata": {},
   "outputs": [],
   "source": []
  }
 ],
 "metadata": {
  "kernelspec": {
   "display_name": "Python 3",
   "language": "python",
   "name": "python3"
  },
  "language_info": {
   "codemirror_mode": {
    "name": "ipython",
    "version": 3
   },
   "file_extension": ".py",
   "mimetype": "text/x-python",
   "name": "python",
   "nbconvert_exporter": "python",
   "pygments_lexer": "ipython3",
   "version": "3.8.3"
  }
 },
 "nbformat": 4,
 "nbformat_minor": 4
}
