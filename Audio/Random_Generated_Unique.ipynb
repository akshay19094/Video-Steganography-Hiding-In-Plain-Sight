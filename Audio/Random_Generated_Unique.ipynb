{
 "cells": [
  {
   "cell_type": "code",
   "execution_count": 1,
   "metadata": {},
   "outputs": [],
   "source": [
    "# Import files\n",
    "import moviepy.editor as mp \n",
    "import wave\n",
    "import numpy as np"
   ]
  },
  {
   "cell_type": "code",
   "execution_count": 2,
   "metadata": {},
   "outputs": [],
   "source": [
    "word_size = 16 # Size of the number in byte format\n",
    "secret_key = 567 # Secret key already known by the program "
   ]
  },
  {
   "cell_type": "markdown",
   "metadata": {},
   "source": [
    "### Encryption"
   ]
  },
  {
   "cell_type": "code",
   "execution_count": 3,
   "metadata": {},
   "outputs": [
    {
     "name": "stderr",
     "output_type": "stream",
     "text": [
      "\r",
      "chunk:   0%|                                                                        | 0/2986 [00:00<?, ?it/s, now=None]"
     ]
    },
    {
     "name": "stdout",
     "output_type": "stream",
     "text": [
      "MoviePy - Writing audio in Try.wav\n"
     ]
    },
    {
     "name": "stderr",
     "output_type": "stream",
     "text": [
      "                                                                                                                       "
     ]
    },
    {
     "name": "stdout",
     "output_type": "stream",
     "text": [
      "MoviePy - Done.\n"
     ]
    },
    {
     "name": "stderr",
     "output_type": "stream",
     "text": [
      "\r"
     ]
    }
   ],
   "source": [
    "# Load video files and change it into the wav format\n",
    "video = mp.VideoFileClip(\"Video.mp4\") \n",
    "audio = video.audio\n",
    "audio.write_audiofile(\"Audio.wav\")\n",
    "audio = wave.open(\"Audio.wav\", mode='rb')"
   ]
  },
  {
   "cell_type": "code",
   "execution_count": 4,
   "metadata": {},
   "outputs": [],
   "source": [
    "# Load bytes from the audio file\n",
    "frame_data = audio.readframes(audio.getnframes())\n",
    "frame_bytes = bytearray(list(frame_data))"
   ]
  },
  {
   "cell_type": "code",
   "execution_count": 5,
   "metadata": {},
   "outputs": [],
   "source": [
    "# Frame data to be written first element is number of frame object\n",
    "frame_data = [4,165,175,200,1000]\n",
    "number_element = frame_data[0]"
   ]
  },
  {
   "cell_type": "code",
   "execution_count": 6,
   "metadata": {},
   "outputs": [],
   "source": [
    "# Convert the frame into bit data of word size and then store it in the audio file\n",
    "frame_data = ''.join(list(map(lambda number: '{0:0{width}b}'.format(number,width=word_size),frame_data)))\n",
    "frame_data = list(map(int,frame_data))"
   ]
  },
  {
   "cell_type": "code",
   "execution_count": 7,
   "metadata": {},
   "outputs": [],
   "source": [
    "# Peform steganography encrpt the number of frames in first bytes\n",
    "for i, bit in enumerate(frame_data[:word_size]):\n",
    "    frame_bytes[i] = (frame_bytes[i] & 254) | bit"
   ]
  },
  {
   "cell_type": "code",
   "execution_count": 8,
   "metadata": {},
   "outputs": [],
   "source": [
    "# Get modified audio file size and divide it into sample sizes\n",
    "frame_bytes_length = len(frame_bytes)-word_size\n",
    "frame_data = frame_data[word_size:]\n",
    "sample_size = frame_bytes_length//len(frame_data)"
   ]
  },
  {
   "cell_type": "code",
   "execution_count": 9,
   "metadata": {},
   "outputs": [],
   "source": [
    "# Arrange the bits in random order\n",
    "random_position = np.random.RandomState(seed=number_element*secret_key).permutation(number_element*word_size)\n",
    "random_dict = zip(random_position,frame_data)\n",
    "random_dict = sorted(random_dict,key = lambda x:x[0])\n",
    "frame_data = [i[1] for i in random_dict]"
   ]
  },
  {
   "cell_type": "code",
   "execution_count": 10,
   "metadata": {},
   "outputs": [],
   "source": [
    "# Peform steganography and save the data in the encrypted format\n",
    "for i, bit in enumerate(frame_data):\n",
    "    temp_frame_data = frame_bytes[word_size+i*sample_size:word_size+(i+1)*sample_size]\n",
    "    \n",
    "    # Get parity by xor the number \n",
    "    parity = 0 \n",
    "    for frame in temp_frame_data:\n",
    "        parity = parity^frame\n",
    "    \n",
    "    # Xor each bit to generate final parity number\n",
    "    final_parity = 0 \n",
    "    for parity_bit in '{0:08b}'.format(parity):\n",
    "        final_parity = final_parity^int(parity_bit)\n",
    "        \n",
    "    if final_parity != bit:\n",
    "        frame_bytes[word_size+(i+1)*sample_size-1] = (frame_bytes[word_size+(i+1)*sample_size-1] ^ 1) # Reverse the bit if parity not equal to the bit to be encoded"
   ]
  },
  {
   "cell_type": "code",
   "execution_count": 11,
   "metadata": {},
   "outputs": [],
   "source": [
    "# Generate modified frames\n",
    "modified_frames = bytes(frame_bytes)"
   ]
  },
  {
   "cell_type": "code",
   "execution_count": 12,
   "metadata": {},
   "outputs": [],
   "source": [
    "# Store the final audio file\n",
    "final_audio = wave.open(\"Encrypted.wav\",\"wb\")\n",
    "final_audio.setparams(audio.getparams())\n",
    "final_audio.writeframes(modified_frames)"
   ]
  },
  {
   "cell_type": "markdown",
   "metadata": {},
   "source": [
    "### Decryption"
   ]
  },
  {
   "cell_type": "code",
   "execution_count": 13,
   "metadata": {},
   "outputs": [],
   "source": [
    "# Load the final audio file and extract frames from it\n",
    "audio = wave.open(\"Encrypted.wav\", mode=\"rb\")\n",
    "frame_data = audio.readframes(audio.getnframes())\n",
    "frame_bytes = bytearray(list(frame_data))"
   ]
  },
  {
   "cell_type": "code",
   "execution_count": 14,
   "metadata": {},
   "outputs": [],
   "source": [
    "# Extract bits from the message and get number of frames from data\n",
    "extracted = [frame_bytes[i] & 1 for i in range(len(frame_bytes[:word_size]))]\n",
    "number_elements = int(str(\"\".join(list(map(str,extracted)))),2)"
   ]
  },
  {
   "cell_type": "code",
   "execution_count": 15,
   "metadata": {},
   "outputs": [],
   "source": [
    "# Get audio file size and divide it into sample sizes\n",
    "frame_bytes_length = len(frame_bytes)-word_size\n",
    "sample_size = frame_bytes_length//(number_elements*word_size)"
   ]
  },
  {
   "cell_type": "code",
   "execution_count": 16,
   "metadata": {},
   "outputs": [],
   "source": [
    "# Extract frame data\n",
    "finalExtraction = [] # Final extracted frame data\n",
    "for i in range(0,(number_elements*word_size)):\n",
    "    temp_frame_data = frame_bytes[word_size+i*sample_size:word_size+(i+1)*sample_size] # Audio data sample\n",
    "    \n",
    "    parity = 0 # Calcuate the xor of whole number\n",
    "    for frame in temp_frame_data:\n",
    "        parity = parity^frame\n",
    "        \n",
    "    final_parity = 0 # Get final parity which is the answer\n",
    "    for parity_bit in '{0:08b}'.format(parity):\n",
    "        final_parity = final_parity^int(parity_bit)\n",
    "    finalExtraction.append(final_parity)"
   ]
  },
  {
   "cell_type": "code",
   "execution_count": 17,
   "metadata": {},
   "outputs": [],
   "source": [
    "# Get original ordering of the bits\n",
    "random_position = np.random.RandomState(seed=number_element*secret_key).permutation(number_element*word_size)\n",
    "finalBits = []\n",
    "for i in random_position:\n",
    "    finalBits.append(finalExtraction[i])"
   ]
  },
  {
   "cell_type": "code",
   "execution_count": 18,
   "metadata": {},
   "outputs": [],
   "source": [
    "# Extract bits and club them together to form word and then convert it to numbers\n",
    "frame_list = list(np.array(finalBits).reshape(number_elements,word_size))\n",
    "number = list(map(lambda x: int(\"\".join(list(map(str,x))),2),frame_list))"
   ]
  },
  {
   "cell_type": "code",
   "execution_count": 19,
   "metadata": {},
   "outputs": [
    {
     "name": "stdout",
     "output_type": "stream",
     "text": [
      "[165, 175, 200, 1000]\n"
     ]
    }
   ],
   "source": [
    "print(number)"
   ]
  }
 ],
 "metadata": {
  "kernelspec": {
   "display_name": "Python 3",
   "language": "python",
   "name": "python3"
  },
  "language_info": {
   "codemirror_mode": {
    "name": "ipython",
    "version": 3
   },
   "file_extension": ".py",
   "mimetype": "text/x-python",
   "name": "python",
   "nbconvert_exporter": "python",
   "pygments_lexer": "ipython3",
   "version": "3.8.3"
  }
 },
 "nbformat": 4,
 "nbformat_minor": 4
}
