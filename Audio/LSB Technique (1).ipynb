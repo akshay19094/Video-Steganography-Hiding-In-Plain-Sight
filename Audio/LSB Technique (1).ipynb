{
 "cells": [
  {
   "cell_type": "code",
   "execution_count": 186,
   "metadata": {},
   "outputs": [],
   "source": [
    "# Import files\n",
    "import moviepy.editor as mp \n",
    "import wave\n",
    "import numpy as np"
   ]
  },
  {
   "cell_type": "code",
   "execution_count": 187,
   "metadata": {},
   "outputs": [],
   "source": [
    "word_size = 16 # Size of the number in byte format"
   ]
  },
  {
   "cell_type": "markdown",
   "metadata": {},
   "source": [
    "### Encryption"
   ]
  },
  {
   "cell_type": "code",
   "execution_count": 188,
   "metadata": {},
   "outputs": [
    {
     "name": "stderr",
     "output_type": "stream",
     "text": [
      "\r",
      "chunk:   0%|                                                                        | 0/2986 [00:00<?, ?it/s, now=None]"
     ]
    },
    {
     "name": "stdout",
     "output_type": "stream",
     "text": [
      "MoviePy - Writing audio in Audio.wav\n"
     ]
    },
    {
     "name": "stderr",
     "output_type": "stream",
     "text": [
      "                                                                                                                       "
     ]
    },
    {
     "name": "stdout",
     "output_type": "stream",
     "text": [
      "MoviePy - Done.\n"
     ]
    },
    {
     "name": "stderr",
     "output_type": "stream",
     "text": [
      "\r"
     ]
    }
   ],
   "source": [
    "# Load video files and change it into the wav format\n",
    "video = mp.VideoFileClip(\"Video.mp4\") \n",
    "audio = video.audio\n",
    "audio.write_audiofile(\"Audio.wav\")\n",
    "audio = wave.open(\"Audio.wav\", mode='rb')"
   ]
  },
  {
   "cell_type": "code",
   "execution_count": 189,
   "metadata": {},
   "outputs": [],
   "source": [
    "# Load bytes from the audio file\n",
    "frame_data = audio.readframes(audio.getnframes())\n",
    "audio_bytes = bytearray(list(frame_data))"
   ]
  },
  {
   "cell_type": "code",
   "execution_count": 190,
   "metadata": {},
   "outputs": [],
   "source": [
    "# Frame data to be written first element is number of frame object\n",
    "frame_data = [4,165,175,200,1000]"
   ]
  },
  {
   "cell_type": "code",
   "execution_count": 191,
   "metadata": {},
   "outputs": [],
   "source": [
    "# Convert the frame into bit data of word size and then store it in the audio file\n",
    "frame_data = ''.join(list(map(lambda number: '{0:0{width}b}'.format(number,width=word_size),frame_data)))\n",
    "frame_data = list(map(int,frame_data))"
   ]
  },
  {
   "cell_type": "code",
   "execution_count": 192,
   "metadata": {},
   "outputs": [],
   "source": [
    "# Peform steganography encrpt the message into the the audio and generate modified bytes\n",
    "for element, frame_bit in enumerate(frame_data):\n",
    "    audio_bytes[element] = (audio_bytes[element] & 254) | frame_bit\n",
    "modified_frames = bytes(audio_bytes)"
   ]
  },
  {
   "cell_type": "code",
   "execution_count": 193,
   "metadata": {},
   "outputs": [],
   "source": [
    "# Store the final audio file\n",
    "final_audio = wave.open('Encrypted.wav', 'wb')\n",
    "final_audio.setparams(audio.getparams())\n",
    "final_audio.writeframes(modified_frames)"
   ]
  },
  {
   "cell_type": "markdown",
   "metadata": {},
   "source": [
    "### Decryption"
   ]
  },
  {
   "cell_type": "code",
   "execution_count": 194,
   "metadata": {},
   "outputs": [],
   "source": [
    "# Load the final audio file and extract frames from it\n",
    "audio = wave.open(\"Encrypted.wav\",'rb')\n",
    "frame_data = audio.readframes(audio.getnframes())\n",
    "frame_bytes = bytearray(list(frame_data))"
   ]
  },
  {
   "cell_type": "code",
   "execution_count": 195,
   "metadata": {},
   "outputs": [],
   "source": [
    "# Extract bits from the message\n",
    "extract_message_bits = [frame_bytes[i] & 1 for i in range(len(frame_bytes))]"
   ]
  },
  {
   "cell_type": "code",
   "execution_count": 196,
   "metadata": {},
   "outputs": [],
   "source": [
    "# Extract number of frames which is the first value in the message\n",
    "number_elements = int(str(\"\".join(list(map(str,extract_message_bits[:word_size])))),2)"
   ]
  },
  {
   "cell_type": "code",
   "execution_count": 197,
   "metadata": {},
   "outputs": [],
   "source": [
    "# Extract number of frames which is the first value in the message\n",
    "elements = extract_message_bits[word_size:(number_elements+1)*word_size]\n",
    "frame_list = list(np.array(elements).reshape(number_elements,word_size))\n",
    "number = list(map(lambda x: int(\"\".join(list(map(str,x))),2),frame_list))"
   ]
  },
  {
   "cell_type": "code",
   "execution_count": 198,
   "metadata": {},
   "outputs": [
    {
     "name": "stdout",
     "output_type": "stream",
     "text": [
      "[165, 175, 200, 1000]\n"
     ]
    }
   ],
   "source": [
    "# Final frame data\n",
    "print(number)"
   ]
  },
  {
   "cell_type": "code",
   "execution_count": null,
   "metadata": {},
   "outputs": [],
   "source": []
  },
  {
   "cell_type": "code",
   "execution_count": null,
   "metadata": {},
   "outputs": [],
   "source": []
  }
 ],
 "metadata": {
  "kernelspec": {
   "display_name": "Python 3",
   "language": "python",
   "name": "python3"
  },
  "language_info": {
   "codemirror_mode": {
    "name": "ipython",
    "version": 3
   },
   "file_extension": ".py",
   "mimetype": "text/x-python",
   "name": "python",
   "nbconvert_exporter": "python",
   "pygments_lexer": "ipython3",
   "version": "3.8.3"
  }
 },
 "nbformat": 4,
 "nbformat_minor": 4
}
